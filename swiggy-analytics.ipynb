{
 "cells": [
  {
   "cell_type": "markdown",
   "metadata": {},
   "source": [
    "## Dataset\n",
    "\n",
    "#### I've scraped all my historical orders placed on `Swiggy.in` for the past four years, now I'll run some analytics to understand my eating habits, expenditure on food, tastes and moods etc. "
   ]
  },
  {
   "cell_type": "code",
   "execution_count": 2,
   "metadata": {},
   "outputs": [],
   "source": [
    "import json\n",
    "import pandas as pd\n",
    "import seaborn as sns\n",
    "import numpy as np\n",
    "from matplotlib import pyplot as plt\n",
    "\n",
    "%matplotlib inline"
   ]
  },
  {
   "cell_type": "markdown",
   "metadata": {},
   "source": [
    "### Let's see what's included in the dataset\n",
    "(Priting one order)"
   ]
  },
  {
   "cell_type": "code",
   "execution_count": null,
   "metadata": {},
   "outputs": [],
   "source": [
    "with open(\"all_orders.json\") as in_:\n",
    "    data = json.load(in_)\n",
    "    "
   ]
  },
  {
   "cell_type": "code",
   "execution_count": 4,
   "metadata": {},
   "outputs": [
    {
     "data": {
      "text/plain": [
       "'I placed 516 orders on Swiggy so far'"
      ]
     },
     "execution_count": 4,
     "metadata": {},
     "output_type": "execute_result"
    }
   ],
   "source": [
    "f'I placed {len(data)} orders on Swiggy so far'"
   ]
  },
  {
   "cell_type": "code",
   "execution_count": 13,
   "metadata": {},
   "outputs": [],
   "source": [
    "first_order = data[-1]\n",
    "recent_order = data[0]"
   ]
  },
  {
   "cell_type": "code",
   "execution_count": 15,
   "metadata": {},
   "outputs": [
    {
     "data": {
      "text/plain": [
       "dict_keys(['sharedOrder', 'order_id', 'delivery_address', 'order_items', 'order_meals', 'order_subscriptions', 'charges', 'free_gifts', 'is_coupon_applied', 'coupon_applied', 'order_time', 'customer_id', 'order_status', 'post_status', 'order_type', 'post_type', 'post_name', 'order_placement_status', 'billing_address_id', 'sla_time', 'delivery_boy', 'restaurant_id', 'restaurant_name', 'restaurant_address', 'restaurant_locality', 'restaurant_type', 'restaurant_coverage_area', 'restaurant_city_code', 'restaurant_city_name', 'restaurant_area_code', 'restaurant_cuisine', 'payment_method', 'order_delivery_status', 'ordered_time_in_seconds', 'delivered_time_in_seconds', 'delivery_time_in_seconds', 'order_total', 'item_total', 'subscription_total', 'subscription_tax', 'subscription_total_without_tax', 'original_order_total', 'swiggy_money', 'order_tax', 'free_shipping', 'order_discount_without_freebie', 'order_discount', 'coupon_discount', 'trade_discount', 'free_delivery_discount_hit', 'freebie_discount_hit', 'has_rating', 'order_spending', 'order_incoming', 'waive_off_amount', 'edit_refund_amount', 'order_restaurant_bill', 'order_notes', 'restaurant_lat_lng', 'restaurant_customer_distance', 'pg_response', 'customer_care_number', 'pg_response_time', 'converted_to_cod', 'last_failed_order_id', 'order_delivery_charge', 'convenience_fee', 'customer_user_agent', 'overbooking', 'payment_confirmation_channel', 'billing_lat', 'billing_lng', 'payment_txn_id', 'coupon_code', 'with_de', 'restaurant_new_slug', 'distance_calc_method', 'is_partner_enable', 'partner_id', 'type_of_partner', 'prep_time', 'restaurant_has_inventory', 'order_payment_method', 'pay_by_system_value', 'de_pickedup_refund', 'agreement_type', 'is_ivr_enabled', 'customer_ip', 'is_refund_initiated', 'restaurant_cover_image', 'restaurant_area_name', 'cust_lat_lng', 'is_assured', 'delayed_placing', 'uuid', 'on_time', 'sla_difference', 'actual_sla_time', 'payment_txn_status', 'restaurant_taxation_type', 'rain_mode', 'payment', 'is_replicated', 'is_cancellable', 'cancellation_fee_collected', 'commission_on_full_bill', 'is_select', 'is_first_order_delivered', 'first_order', 'rendering_details', 'mCancellationTime', 'configurations', 'GST_on_subscription', 'success_message', 'success_message_info', 'success_title', 'success_message_type', 'threshold_fee', 'distance_fee', 'time_fee', 'special_fee'])"
      ]
     },
     "execution_count": 15,
     "metadata": {},
     "output_type": "execute_result"
    }
   ],
   "source": [
    "first_order.keys()"
   ]
  },
  {
   "cell_type": "code",
   "execution_count": 14,
   "metadata": {
    "scrolled": false
   },
   "outputs": [
    {
     "data": {
      "text/plain": [
       "{'cancellation_fee_applied',\n",
       " 'cancellation_fee_collected_total',\n",
       " 'cashback_source',\n",
       " 'coupon_description',\n",
       " 'coupon_type',\n",
       " 'defaulting_lat',\n",
       " 'defaulting_lng',\n",
       " 'defaulting_type',\n",
       " 'device_id',\n",
       " 'free_del_break_up',\n",
       " 'initiation_source',\n",
       " 'is_bank_discount',\n",
       " 'is_long_distance',\n",
       " 'key',\n",
       " 'order_tags',\n",
       " 'phonepe_debit_requisites',\n",
       " 'phonepe_payment_modes',\n",
       " 'savings_shown_to_customer',\n",
       " 'sid',\n",
       " 'subscription_gst_expression',\n",
       " 'swuid'}"
      ]
     },
     "execution_count": 14,
     "metadata": {},
     "output_type": "execute_result"
    }
   ],
   "source": [
    "# Swiggy's schema updates since 2016 (it's 2019 now)\n",
    "recent_order.keys() - first_order.keys() "
   ]
  },
  {
   "cell_type": "code",
   "execution_count": 10,
   "metadata": {},
   "outputs": [
    {
     "data": {
      "text/plain": [
       "\"I've spent 83800 rupees on Swiggy since August, 2016!\""
      ]
     },
     "execution_count": 10,
     "metadata": {},
     "output_type": "execute_result"
    }
   ],
   "source": [
    "total_money_paid = 0\n",
    "for order in data:\n",
    "    total_money_paid += order[\"order_total\"]\n",
    "\n",
    "f'I\\'ve spent {total_money_paid} rupees on Swiggy since August, 2016!'"
   ]
  },
  {
   "cell_type": "code",
   "execution_count": null,
   "metadata": {},
   "outputs": [],
   "source": []
  }
 ],
 "metadata": {
  "kernelspec": {
   "display_name": "Python 3",
   "language": "python",
   "name": "python3"
  },
  "language_info": {
   "codemirror_mode": {
    "name": "ipython",
    "version": 3
   },
   "file_extension": ".py",
   "mimetype": "text/x-python",
   "name": "python",
   "nbconvert_exporter": "python",
   "pygments_lexer": "ipython3",
   "version": "3.7.3"
  },
  "toc": {
   "base_numbering": 1,
   "nav_menu": {},
   "number_sections": true,
   "sideBar": true,
   "skip_h1_title": false,
   "title_cell": "Table of Contents",
   "title_sidebar": "Contents",
   "toc_cell": false,
   "toc_position": {},
   "toc_section_display": true,
   "toc_window_display": false
  }
 },
 "nbformat": 4,
 "nbformat_minor": 2
}
